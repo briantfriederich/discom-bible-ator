{
 "cells": [
  {
   "cell_type": "markdown",
   "metadata": {},
   "source": [
    "# The Discombibleator\n",
    "## Putting Ancient Measurements Into Context"
   ]
  },
  {
   "cell_type": "code",
   "execution_count": 719,
   "metadata": {},
   "outputs": [],
   "source": [
    "import numpy as np\n",
    "import pandas as pd\n",
    "import matplotlib.pyplot as plt\n",
    "from nltk.tokenize import word_tokenize\n",
    "\n",
    "pd.options.display.max_colwidth = 508\n",
    "asv_corpus = pd.read_csv(\"data/t_asv.csv\")\n",
    "asv_corpus = asv_corpus[[\"id\", \"t\"]]"
   ]
  },
  {
   "cell_type": "code",
   "execution_count": 720,
   "metadata": {},
   "outputs": [
    {
     "data": {
      "text/html": [
       "<div>\n",
       "<style scoped>\n",
       "    .dataframe tbody tr th:only-of-type {\n",
       "        vertical-align: middle;\n",
       "    }\n",
       "\n",
       "    .dataframe tbody tr th {\n",
       "        vertical-align: top;\n",
       "    }\n",
       "\n",
       "    .dataframe thead th {\n",
       "        text-align: right;\n",
       "    }\n",
       "</style>\n",
       "<table border=\"1\" class=\"dataframe\">\n",
       "  <thead>\n",
       "    <tr style=\"text-align: right;\">\n",
       "      <th></th>\n",
       "      <th>id</th>\n",
       "      <th>t</th>\n",
       "    </tr>\n",
       "  </thead>\n",
       "  <tbody>\n",
       "    <tr>\n",
       "      <th>31098</th>\n",
       "      <td>66022017</td>\n",
       "      <td>And the Spirit and the bride say, Come. And he that heareth, let him say, Come. And he that is athirst, let him come: he that will, let him take the water of life freely.</td>\n",
       "    </tr>\n",
       "    <tr>\n",
       "      <th>31099</th>\n",
       "      <td>66022018</td>\n",
       "      <td>I testify unto every man that heareth the words of the prophecy of this book, if any man shall add unto them, God shall add unto him the plagues which are written in this book:</td>\n",
       "    </tr>\n",
       "    <tr>\n",
       "      <th>31100</th>\n",
       "      <td>66022019</td>\n",
       "      <td>and if any man shall take away from the words of the book of this prophecy, God shall take away his part from the tree of life, and out of the holy city, which are written in this book.</td>\n",
       "    </tr>\n",
       "    <tr>\n",
       "      <th>31101</th>\n",
       "      <td>66022020</td>\n",
       "      <td>He who testifieth these things saith, Yea: I come quickly. Amen: come, Lord Jesus.</td>\n",
       "    </tr>\n",
       "    <tr>\n",
       "      <th>31102</th>\n",
       "      <td>66022021</td>\n",
       "      <td>The grace of the Lord Jesus be with the saints. Amen.</td>\n",
       "    </tr>\n",
       "  </tbody>\n",
       "</table>\n",
       "</div>"
      ],
      "text/plain": [
       "             id  \\\n",
       "31098  66022017   \n",
       "31099  66022018   \n",
       "31100  66022019   \n",
       "31101  66022020   \n",
       "31102  66022021   \n",
       "\n",
       "                                                                                                                                                                                               t  \n",
       "31098                 And the Spirit and the bride say, Come. And he that heareth, let him say, Come. And he that is athirst, let him come: he that will, let him take the water of life freely.  \n",
       "31099           I testify unto every man that heareth the words of the prophecy of this book, if any man shall add unto them, God shall add unto him the plagues which are written in this book:  \n",
       "31100  and if any man shall take away from the words of the book of this prophecy, God shall take away his part from the tree of life, and out of the holy city, which are written in this book.  \n",
       "31101                                                                                                         He who testifieth these things saith, Yea: I come quickly. Amen: come, Lord Jesus.  \n",
       "31102                                                                                                                                      The grace of the Lord Jesus be with the saints. Amen.  "
      ]
     },
     "execution_count": 720,
     "metadata": {},
     "output_type": "execute_result"
    }
   ],
   "source": [
    "asv_corpus.tail()"
   ]
  },
  {
   "cell_type": "code",
   "execution_count": 721,
   "metadata": {},
   "outputs": [],
   "source": [
    "# Code from Andrew at Stack Overflow: https://stackoverflow.com/questions/493174/is-there-a-way-to-convert-number-words-to-integers\n",
    "def text2int (textnum, numwords={}):\n",
    "    if not numwords:\n",
    "        units = [\n",
    "        \"zero\", \"one\", \"two\", \"three\", \"four\", \"five\", \"six\", \"seven\", \"eight\",\n",
    "        \"nine\", \"ten\", \"eleven\", \"twelve\", \"thirteen\", \"fourteen\", \"fifteen\",\n",
    "        \"sixteen\", \"seventeen\", \"eighteen\", \"nineteen\",\n",
    "        ]\n",
    "\n",
    "        tens = [\"\", \"\", \"twenty\", \"thirty\", \"forty\", \"fifty\", \"sixty\", \"seventy\", \"eighty\", \"ninety\"]\n",
    "\n",
    "        scales = [\"hundred\", \"thousand\", \"million\", \"billion\", \"trillion\"]\n",
    "\n",
    "        #numwords[\"and\"] = (1, 0)\n",
    "        for idx, word in enumerate(units):  numwords[word] = (1, idx)\n",
    "        for idx, word in enumerate(tens):       numwords[word] = (1, idx * 10)\n",
    "        for idx, word in enumerate(scales): numwords[word] = (10 ** (idx * 3 or 2), 0)\n",
    "\n",
    "    ordinal_words = {'first':1, 'second':2, 'third':3, 'fifth':5, 'eighth':8, 'ninth':9, 'twelfth':12}\n",
    "    ordinal_endings = [('ieth', 'y'), ('th', '')]\n",
    "\n",
    "    textnum = textnum.replace('-', ' ')\n",
    "\n",
    "    current = result = 0\n",
    "    curstring = \"\"\n",
    "    onnumber = False\n",
    "    for word in textnum.split():\n",
    "        if word in ordinal_words:\n",
    "            scale, increment = (1, ordinal_words[word])\n",
    "            current = current * scale + increment\n",
    "            if scale > 100:\n",
    "                result += current\n",
    "                current = 0\n",
    "            onnumber = True\n",
    "        else:\n",
    "            for ending, replacement in ordinal_endings:\n",
    "                if word.endswith(ending):\n",
    "                    if word.startswith(tuple(units)):\n",
    "                        word = \"%s%s\" % (word[:-len(ending)], replacement)\n",
    "\n",
    "            if word not in numwords:\n",
    "                if onnumber:\n",
    "                    curstring += repr(result + current) + \" \"\n",
    "                curstring += word + \" \"\n",
    "                result = current = 0\n",
    "                onnumber = False\n",
    "            else:\n",
    "                scale, increment = numwords[word]\n",
    "\n",
    "                current = current * scale + increment\n",
    "                if scale > 100:\n",
    "                    result += current\n",
    "                    current = 0\n",
    "                onnumber = True\n",
    "\n",
    "    if onnumber:\n",
    "        curstring += repr(result + current)\n",
    "\n",
    "    return curstring"
   ]
  },
  {
   "cell_type": "code",
   "execution_count": 722,
   "metadata": {},
   "outputs": [
    {
     "data": {
      "text/html": [
       "<div>\n",
       "<style scoped>\n",
       "    .dataframe tbody tr th:only-of-type {\n",
       "        vertical-align: middle;\n",
       "    }\n",
       "\n",
       "    .dataframe tbody tr th {\n",
       "        vertical-align: top;\n",
       "    }\n",
       "\n",
       "    .dataframe thead th {\n",
       "        text-align: right;\n",
       "    }\n",
       "</style>\n",
       "<table border=\"1\" class=\"dataframe\">\n",
       "  <thead>\n",
       "    <tr style=\"text-align: right;\">\n",
       "      <th></th>\n",
       "      <th>b</th>\n",
       "      <th>n</th>\n",
       "    </tr>\n",
       "  </thead>\n",
       "  <tbody>\n",
       "    <tr>\n",
       "      <th>61</th>\n",
       "      <td>62</td>\n",
       "      <td>1 John</td>\n",
       "    </tr>\n",
       "    <tr>\n",
       "      <th>62</th>\n",
       "      <td>63</td>\n",
       "      <td>2 John</td>\n",
       "    </tr>\n",
       "    <tr>\n",
       "      <th>63</th>\n",
       "      <td>64</td>\n",
       "      <td>3 John</td>\n",
       "    </tr>\n",
       "    <tr>\n",
       "      <th>64</th>\n",
       "      <td>65</td>\n",
       "      <td>Jude</td>\n",
       "    </tr>\n",
       "    <tr>\n",
       "      <th>65</th>\n",
       "      <td>66</td>\n",
       "      <td>Revelation</td>\n",
       "    </tr>\n",
       "  </tbody>\n",
       "</table>\n",
       "</div>"
      ],
      "text/plain": [
       "     b           n\n",
       "61  62      1 John\n",
       "62  63      2 John\n",
       "63  64      3 John\n",
       "64  65        Jude\n",
       "65  66  Revelation"
      ]
     },
     "execution_count": 722,
     "metadata": {},
     "output_type": "execute_result"
    }
   ],
   "source": [
    "book_key = pd.read_csv(\"data/key_english.csv\")\n",
    "book_key = book_key[[\"b\", \"n\"]]\n",
    "book_key.tail()"
   ]
  },
  {
   "cell_type": "code",
   "execution_count": 1,
   "metadata": {},
   "outputs": [
    {
     "ename": "NameError",
     "evalue": "name 'pd' is not defined",
     "output_type": "error",
     "traceback": [
      "\u001b[0;31m---------------------------------------------------------------------------\u001b[0m",
      "\u001b[0;31mNameError\u001b[0m                                 Traceback (most recent call last)",
      "\u001b[0;32m<ipython-input-1-f8a12163f922>\u001b[0m in \u001b[0;36m<module>\u001b[0;34m()\u001b[0m\n\u001b[0;32m----> 1\u001b[0;31m \u001b[0mmeasures\u001b[0m \u001b[0;34m=\u001b[0m \u001b[0mpd\u001b[0m\u001b[0;34m.\u001b[0m\u001b[0mread_csv\u001b[0m\u001b[0;34m(\u001b[0m\u001b[0;34m\"data/measures.csv\"\u001b[0m\u001b[0;34m,\u001b[0m \u001b[0mheader\u001b[0m \u001b[0;34m=\u001b[0m \u001b[0;36m0\u001b[0m\u001b[0;34m,\u001b[0m \u001b[0mindex_col\u001b[0m \u001b[0;34m=\u001b[0m \u001b[0;36m0\u001b[0m\u001b[0;34m,\u001b[0m \u001b[0msqueeze\u001b[0m\u001b[0;34m=\u001b[0m\u001b[0;32mTrue\u001b[0m\u001b[0;34m)\u001b[0m\u001b[0;34m.\u001b[0m\u001b[0mto_dict\u001b[0m\u001b[0;34m(\u001b[0m\u001b[0;34m)\u001b[0m\u001b[0;34m\u001b[0m\u001b[0m\n\u001b[0m",
      "\u001b[0;31mNameError\u001b[0m: name 'pd' is not defined"
     ]
    }
   ],
   "source": [
    "measures = pd.read_csv(\"data/measures.csv\", header = 0, index_col = 0, squeeze=True).to_dict()"
   ]
  },
  {
   "cell_type": "code",
   "execution_count": 2,
   "metadata": {},
   "outputs": [
    {
     "ename": "NameError",
     "evalue": "name 'pd' is not defined",
     "output_type": "error",
     "traceback": [
      "\u001b[0;31m---------------------------------------------------------------------------\u001b[0m",
      "\u001b[0;31mNameError\u001b[0m                                 Traceback (most recent call last)",
      "\u001b[0;32m<ipython-input-2-1417b5eab998>\u001b[0m in \u001b[0;36m<module>\u001b[0;34m()\u001b[0m\n\u001b[0;32m----> 1\u001b[0;31m \u001b[0mmeasurement_roots\u001b[0m \u001b[0;34m=\u001b[0m \u001b[0mpd\u001b[0m\u001b[0;34m.\u001b[0m\u001b[0mread_csv\u001b[0m\u001b[0;34m(\u001b[0m\u001b[0;34m'data/measurement_roots.csv'\u001b[0m\u001b[0;34m,\u001b[0m \u001b[0mheader\u001b[0m\u001b[0;34m=\u001b[0m\u001b[0;36m0\u001b[0m\u001b[0;34m,\u001b[0m \u001b[0mindex_col\u001b[0m\u001b[0;34m=\u001b[0m\u001b[0;36m1\u001b[0m\u001b[0;34m,\u001b[0m \u001b[0msqueeze\u001b[0m\u001b[0;34m=\u001b[0m\u001b[0;32mTrue\u001b[0m\u001b[0;34m)\u001b[0m\u001b[0;34m.\u001b[0m\u001b[0mto_dict\u001b[0m\u001b[0;34m(\u001b[0m\u001b[0;34m)\u001b[0m\u001b[0;34m\u001b[0m\u001b[0m\n\u001b[0m",
      "\u001b[0;31mNameError\u001b[0m: name 'pd' is not defined"
     ]
    }
   ],
   "source": [
    "measurement_roots = pd.read_csv('data/measurement_roots.csv', header=0, index_col=1, squeeze=True).to_dict()"
   ]
  },
  {
   "cell_type": "code",
   "execution_count": 725,
   "metadata": {},
   "outputs": [],
   "source": [
    "punctuation = [\".\", \";\", \",\", \"!\", \"?\", \"(\", \")\", \":\"]"
   ]
  },
  {
   "cell_type": "code",
   "execution_count": 726,
   "metadata": {},
   "outputs": [
    {
     "data": {
      "text/plain": [
       "'\\nclass Book:\\n    \\n    def __init__(self, name):\\n        self.book = name\\n        \\nclass Chapter:\\n    \\n    def __init__(self, ch):\\n        self.ch = ch\\n        \\nclass Verse:\\n    \\n    def _init(self, verse):\\n        self.verse = verse\\n'"
      ]
     },
     "execution_count": 726,
     "metadata": {},
     "output_type": "execute_result"
    }
   ],
   "source": [
    "\"\"\"\n",
    "class Book:\n",
    "    \n",
    "    def __init__(self, name):\n",
    "        self.book = name\n",
    "        \n",
    "class Chapter:\n",
    "    \n",
    "    def __init__(self, ch):\n",
    "        self.ch = ch\n",
    "        \n",
    "class Verse:\n",
    "    \n",
    "    def _init(self, verse):\n",
    "        self.verse = verse\n",
    "\"\"\""
   ]
  },
  {
   "cell_type": "code",
   "execution_count": 727,
   "metadata": {},
   "outputs": [],
   "source": [
    "class Unit_id:\n",
    "    \n",
    "    def __init__(self, Book, Chapter, Verse):\n",
    "        self.book = str(Book)\n",
    "        self.chapter = str(Chapter).zfill(3)\n",
    "        self.verse = str(Verse).zfill(3)\n",
    "        self.book_id_row = book_key.loc[book_key['n'] == Book]\n",
    "        self.book_id = str(int(self.book_id_row['b']))\n",
    "        self.id_list = [self.book_id, self.chapter, self.verse]\n",
    "        self.id_concat = ''.join(self.id_list) "
   ]
  },
  {
   "cell_type": "code",
   "execution_count": 844,
   "metadata": {},
   "outputs": [],
   "source": [
    "class Id_to_tokenized_list:\n",
    "    \n",
    "    def __init__(self, id_number, units = 'imperial'):\n",
    "        self.id_number = id_number\n",
    "        self.units = units\n",
    "        self.raw_text_row = asv_corpus.loc[asv_corpus['id'] == int(self.id_number)]\n",
    "        self.raw_text = self.raw_text_row['t'].to_string(index = False)\n",
    "        self.text_list = word_tokenize(self.raw_text)\n",
    "        self.has_measurements = False\n",
    "        self.m_root_words = []\n",
    "        self.datetime = False\n",
    "        self.has_or = False\n",
    "        \n",
    "    def remove_bad_punctuation(self):\n",
    "        for i, j in enumerate(self.text_list):\n",
    "            if j == '`':\n",
    "                if self.text_list[i+2] == \"'\":\n",
    "                    del self.text_list[i+2]\n",
    "                    del self.text_list[i]\n",
    "        \n",
    "    def lemmatize_measurements(self): \n",
    "        if any(s in self.text_list for s in measurement_roots.keys()): \n",
    "            for word in set(self.text_list).intersection(measurement_roots.keys()):\n",
    "                self.text_list[:] = [measurement_roots[word] if x == word else x for x in self.text_list]\n",
    "                \n",
    "    def join_multiword_measurements(self):            \n",
    "        for i, j in enumerate(self.text_list):\n",
    "            if j == 'cubit':\n",
    "                if self.text_list[i-1] == 'long':\n",
    "                    self.text_list[i-1:i+1] = [\" \".join(self.text_list[i-1:i+1])]\n",
    "            elif j == 'Sabbath':\n",
    "                if  self.text_list[i+1] == 'day' and (self.text_list[i+3] == 'journey' or 'walk'):\n",
    "                    self.text_list[i:i+4] = [\"sabbath day's journey\"]\n",
    "            elif j == 'journey':\n",
    "                if self.text_list[i-2] == 'day' or 'days':\n",
    "                    self.text_list[i-2:i+1] = [\"day's journey\"]\n",
    "            elif j == 'hour' or 'watch':\n",
    "                if self.text_list[i-1] in [\"second\", \"third\", \"fourth\", \"sixth\",\n",
    "                                           \"seventh\", \"ninth\", \"tenth\", \"eleventh\"]:\n",
    "                    self.text_list[i-2:i+1] = [\" \".join(self.text_list[i-2:i+1])]\n",
    "        self.text_list = self.text_list\n",
    "    \n",
    "    def check_for_measurements(self):\n",
    "        if any(s in self.text_list for s in measurement_roots.values()):\n",
    "            self.has_measurements = True\n",
    "        \n",
    "        \n",
    "    def convert_numbers(self):\n",
    "        if any(s in self.text_list for s in measurement_roots.values()):\n",
    "            self.m_root_words = list(set(self.text_list).intersection(measurement_roots.values()))\n",
    "            \n",
    "    def         \n",
    "            for i, j in enumerate(self.text_list):\n",
    "                if j in m_root_words:                    \n",
    "                    if self.text_list[i-1] in ('a', 'an'):\n",
    "                        self.text_list[i-1] = 1.0\n",
    "                    elif j not in (\"the third hour\", \"the sixth hour\", \"the seventh hour\",\n",
    "                           \"the ninth hour\", \"the tenth hour\", \"the eleventh hour\",\n",
    "                           \"the second watch\", \"the third watch\", \"the fourth watch\"):                        \n",
    "                        self.text_list[i-1] = float(text2int(self.text_list[i-1]))\n",
    "                        if self.text_list[i-2] == 'or':\n",
    "                            self.has_or = True\n",
    "                            self.text_list[i-3] = float(text2int(self.text_list[i-3]))\n",
    "                    else:\n",
    "                        self.datetime = True\n",
    "                    \n",
    "                    if not self.datetime:    \n",
    "                        if self.units == 'metric':\n",
    "                            self.text_list[i-1] = str(self.text_list[i-1] * float(measures['metric_multiplier'][j]))\n",
    "                            self.text_list[i] = (measures['metric'][j])\n",
    "                            if has_or:\n",
    "                                self.text_list[i-3] = str(self.text_list[i-1] * float(measures['metric_multiplier'][j]))\n",
    "                        else:\n",
    "                            self.text_list[i-1] = str(self.text_list[i-1] * float(measures['imperial_multiplier'][j]))\n",
    "                            self.text_list[i] = (measures['imperial'][j])\n",
    "                            if has_or:\n",
    "                                self.text_list[i-3] = str(self.text_list[i-1] * float(measures['imperial_multiplier'][j]))\n",
    "                    else:\n",
    "                        self.text_list[i-1] = 'approximately'\n",
    "                        self.text_list[i] = (measures['metric'][j])\n",
    "    \n",
    "    def compile_sentence(self):\n",
    "        output = \"\".join([\" \"+i if not i.startswith(\"'\") and i not in punctuation else i for i in self.text_list]).strip()\n",
    "        return output"
   ]
  },
  {
   "cell_type": "code",
   "execution_count": 845,
   "metadata": {
    "scrolled": true
   },
   "outputs": [
    {
     "data": {
      "text/plain": [
       "'Now Peter and John were going up into the temple at the hour of prayer, approximately 3:00 PM.'"
      ]
     },
     "execution_count": 845,
     "metadata": {},
     "output_type": "execute_result"
    }
   ],
   "source": [
    "v = Unit_id('Acts', 3, 1)\n",
    "r = Id_to_tokenized_list(v.id_concat)\n",
    "r.remove_bad_punctuation()\n",
    "r.lemmatize_measurements()\n",
    "r.convert_numbers()\n",
    "r.compile_sentence()"
   ]
  },
  {
   "cell_type": "code",
   "execution_count": 846,
   "metadata": {},
   "outputs": [
    {
     "ename": "TypeError",
     "evalue": "can't multiply sequence by non-int of type 'float'",
     "output_type": "error",
     "traceback": [
      "\u001b[0;31m---------------------------------------------------------------------------\u001b[0m",
      "\u001b[0;31mTypeError\u001b[0m                                 Traceback (most recent call last)",
      "\u001b[0;32m<ipython-input-846-d0146aaabd2d>\u001b[0m in \u001b[0;36m<module>\u001b[0;34m()\u001b[0m\n\u001b[1;32m      2\u001b[0m \u001b[0mr\u001b[0m \u001b[0;34m=\u001b[0m \u001b[0mId_to_tokenized_list\u001b[0m\u001b[0;34m(\u001b[0m\u001b[0mv\u001b[0m\u001b[0;34m.\u001b[0m\u001b[0mid_concat\u001b[0m\u001b[0;34m)\u001b[0m\u001b[0;34m\u001b[0m\u001b[0m\n\u001b[1;32m      3\u001b[0m \u001b[0mr\u001b[0m\u001b[0;34m.\u001b[0m\u001b[0mlemmatize_measurements\u001b[0m\u001b[0;34m(\u001b[0m\u001b[0;34m)\u001b[0m\u001b[0;34m\u001b[0m\u001b[0m\n\u001b[0;32m----> 4\u001b[0;31m \u001b[0mr\u001b[0m\u001b[0;34m.\u001b[0m\u001b[0mconvert_numbers\u001b[0m\u001b[0;34m(\u001b[0m\u001b[0;34m)\u001b[0m\u001b[0;34m\u001b[0m\u001b[0m\n\u001b[0m\u001b[1;32m      5\u001b[0m \u001b[0mr\u001b[0m\u001b[0;34m.\u001b[0m\u001b[0mcompile_sentence\u001b[0m\u001b[0;34m(\u001b[0m\u001b[0;34m)\u001b[0m\u001b[0;34m\u001b[0m\u001b[0m\n",
      "\u001b[0;32m<ipython-input-844-57c9498f2674>\u001b[0m in \u001b[0;36mconvert_numbers\u001b[0;34m(self)\u001b[0m\n\u001b[1;32m     64\u001b[0m                             \u001b[0mself\u001b[0m\u001b[0;34m.\u001b[0m\u001b[0mtext_list\u001b[0m\u001b[0;34m[\u001b[0m\u001b[0mi\u001b[0m\u001b[0;34m]\u001b[0m \u001b[0;34m=\u001b[0m \u001b[0;34m(\u001b[0m\u001b[0mmeasures\u001b[0m\u001b[0;34m[\u001b[0m\u001b[0;34m'imperial'\u001b[0m\u001b[0;34m]\u001b[0m\u001b[0;34m[\u001b[0m\u001b[0mj\u001b[0m\u001b[0;34m]\u001b[0m\u001b[0;34m)\u001b[0m\u001b[0;34m\u001b[0m\u001b[0m\n\u001b[1;32m     65\u001b[0m                             \u001b[0;32mif\u001b[0m \u001b[0mhas_or\u001b[0m\u001b[0;34m:\u001b[0m\u001b[0;34m\u001b[0m\u001b[0m\n\u001b[0;32m---> 66\u001b[0;31m                                 \u001b[0mself\u001b[0m\u001b[0;34m.\u001b[0m\u001b[0mtext_list\u001b[0m\u001b[0;34m[\u001b[0m\u001b[0mi\u001b[0m\u001b[0;34m-\u001b[0m\u001b[0;36m3\u001b[0m\u001b[0;34m]\u001b[0m \u001b[0;34m=\u001b[0m \u001b[0mstr\u001b[0m\u001b[0;34m(\u001b[0m\u001b[0mself\u001b[0m\u001b[0;34m.\u001b[0m\u001b[0mtext_list\u001b[0m\u001b[0;34m[\u001b[0m\u001b[0mi\u001b[0m\u001b[0;34m-\u001b[0m\u001b[0;36m1\u001b[0m\u001b[0;34m]\u001b[0m \u001b[0;34m*\u001b[0m \u001b[0mfloat\u001b[0m\u001b[0;34m(\u001b[0m\u001b[0mmeasures\u001b[0m\u001b[0;34m[\u001b[0m\u001b[0;34m'imperial_multiplier'\u001b[0m\u001b[0;34m]\u001b[0m\u001b[0;34m[\u001b[0m\u001b[0mj\u001b[0m\u001b[0;34m]\u001b[0m\u001b[0;34m)\u001b[0m\u001b[0;34m)\u001b[0m\u001b[0;34m\u001b[0m\u001b[0m\n\u001b[0m\u001b[1;32m     67\u001b[0m                     \u001b[0;32melse\u001b[0m\u001b[0;34m:\u001b[0m\u001b[0;34m\u001b[0m\u001b[0m\n\u001b[1;32m     68\u001b[0m                         \u001b[0mself\u001b[0m\u001b[0;34m.\u001b[0m\u001b[0mtext_list\u001b[0m\u001b[0;34m[\u001b[0m\u001b[0mi\u001b[0m\u001b[0;34m-\u001b[0m\u001b[0;36m1\u001b[0m\u001b[0;34m]\u001b[0m \u001b[0;34m=\u001b[0m \u001b[0;34m'approximately'\u001b[0m\u001b[0;34m\u001b[0m\u001b[0m\n",
      "\u001b[0;31mTypeError\u001b[0m: can't multiply sequence by non-int of type 'float'"
     ]
    }
   ],
   "source": [
    "v = Unit_id('John', 2, 6)\n",
    "r = Id_to_tokenized_list(v.id_concat)\n",
    "r.lemmatize_measurements()\n",
    "r.convert_numbers()\n",
    "r.compile_sentence()"
   ]
  },
  {
   "cell_type": "code",
   "execution_count": 836,
   "metadata": {},
   "outputs": [
    {
     "data": {
      "text/plain": [
       "'And a capital of brass was upon it; and the height of the one capital was 7.5 feet, with network and pomegranates upon the capital round about, all of brass: and the second pillar also had like unto these, and pomegranates.'"
      ]
     },
     "execution_count": 836,
     "metadata": {},
     "output_type": "execute_result"
    }
   ],
   "source": [
    "v = Unit_id('Jeremiah', 52, 22)\n",
    "r = Id_to_tokenized_list(v.id_concat)\n",
    "r.lemmatize_measurements()\n",
    "r.convert_numbers()\n",
    "r.compile_sentence()"
   ]
  },
  {
   "cell_type": "code",
   "execution_count": 837,
   "metadata": {},
   "outputs": [
    {
     "data": {
      "text/plain": [
       "'But he himself went 20.0 miles into the wilderness, and came and sat down under a juniper-tree: and he requested for himself that he might die, and said, It is enough; now, O Jehovah, take away my life; for I am not better than my fathers.'"
      ]
     },
     "execution_count": 837,
     "metadata": {},
     "output_type": "execute_result"
    }
   ],
   "source": [
    "v = Unit_id('1 Kings', 19, 4)\n",
    "r = Id_to_tokenized_list(v.id_concat)\n",
    "r.lemmatize_measurements()\n",
    "r.convert_numbers()\n",
    "r.compile_sentence()"
   ]
  },
  {
   "cell_type": "code",
   "execution_count": null,
   "metadata": {},
   "outputs": [],
   "source": []
  }
 ],
 "metadata": {
  "kernelspec": {
   "display_name": "Python 3",
   "language": "python",
   "name": "python3"
  },
  "language_info": {
   "codemirror_mode": {
    "name": "ipython",
    "version": 3
   },
   "file_extension": ".py",
   "mimetype": "text/x-python",
   "name": "python",
   "nbconvert_exporter": "python",
   "pygments_lexer": "ipython3",
   "version": "3.6.5"
  }
 },
 "nbformat": 4,
 "nbformat_minor": 2
}
